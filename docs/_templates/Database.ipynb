{
 "cells": [
  {
   "cell_type": "markdown",
   "metadata": {},
   "source": [
    "# Database\n",
    "\n",
    "A metabolite database is represented by two types of files: a struct and a mapping. These databases are used in the\n",
    "annotation process ran by SmartPeak.\n",
    "\n",
    "Both files are in :abbr:`TSV (tab-separated values)` format. Functions to handle these files have to be imported from\n",
    "the ``io`` module. "
   ]
  },
  {
   "cell_type": "code",
   "execution_count": 3,
   "metadata": {},
   "outputs": [],
   "source": [
    "from BFAIR.io import struct, mapping"
   ]
  },
  {
   "cell_type": "markdown",
   "metadata": {},
   "source": [
    "## Struct\n",
    "\n",
    "Struct files contain 4 columns of metabolite ID, formula, SMILES, and InChI. Only the first two columns are used by SmartPeak."
   ]
  },
  {
   "cell_type": "code",
   "execution_count": 7,
   "metadata": {},
   "outputs": [
    {
     "data": {
      "text/html": [
       "<div>\n",
       "<style scoped>\n",
       "    .dataframe tbody tr th:only-of-type {\n",
       "        vertical-align: middle;\n",
       "    }\n",
       "\n",
       "    .dataframe tbody tr th {\n",
       "        vertical-align: top;\n",
       "    }\n",
       "\n",
       "    .dataframe thead th {\n",
       "        text-align: right;\n",
       "    }\n",
       "</style>\n",
       "<table border=\"1\" class=\"dataframe\">\n",
       "  <thead>\n",
       "    <tr style=\"text-align: right;\">\n",
       "      <th></th>\n",
       "      <th>id</th>\n",
       "      <th>formula</th>\n",
       "      <th>unused_smiles</th>\n",
       "      <th>unused_inchi</th>\n",
       "    </tr>\n",
       "  </thead>\n",
       "  <tbody>\n",
       "    <tr>\n",
       "      <th>0</th>\n",
       "      <td>glc__D</td>\n",
       "      <td>C6H12O6</td>\n",
       "      <td>smiles</td>\n",
       "      <td>inchi</td>\n",
       "    </tr>\n",
       "    <tr>\n",
       "      <th>1</th>\n",
       "      <td>gln__L</td>\n",
       "      <td>C5H10N2O3</td>\n",
       "      <td>smiles</td>\n",
       "      <td>inchi</td>\n",
       "    </tr>\n",
       "    <tr>\n",
       "      <th>2</th>\n",
       "      <td>glu__L</td>\n",
       "      <td>C5H9NO4</td>\n",
       "      <td>smiles</td>\n",
       "      <td>inchi</td>\n",
       "    </tr>\n",
       "    <tr>\n",
       "      <th>3</th>\n",
       "      <td>glx</td>\n",
       "      <td>C2H2O3</td>\n",
       "      <td>smiles</td>\n",
       "      <td>inchi</td>\n",
       "    </tr>\n",
       "    <tr>\n",
       "      <th>4</th>\n",
       "      <td>h2o</td>\n",
       "      <td>H2O</td>\n",
       "      <td>smiles</td>\n",
       "      <td>inchi</td>\n",
       "    </tr>\n",
       "  </tbody>\n",
       "</table>\n",
       "</div>"
      ],
      "text/plain": [
       "       id    formula unused_smiles unused_inchi\n",
       "0  glc__D    C6H12O6        smiles        inchi\n",
       "1  gln__L  C5H10N2O3        smiles        inchi\n",
       "2  glu__L    C5H9NO4        smiles        inchi\n",
       "3     glx     C2H2O3        smiles        inchi\n",
       "4     h2o        H2O        smiles        inchi"
      ]
     },
     "execution_count": 7,
     "metadata": {},
     "output_type": "execute_result"
    }
   ],
   "source": [
    "struct_path = Path(\"../../tests/test_data/struct_test.tsv\")\n",
    "\n",
    "struct_test = struct.read(struct_path)\n",
    "struct_test.head()"
   ]
  },
  {
   "cell_type": "markdown",
   "metadata": {},
   "source": [
    "## Mapping\n",
    "\n",
    "A mapping file summarizes a struct file by grouping metabolites by their formula. These data structures contain 3 columns of mass, formula, and metabolite IDs. The mass column is unused, so its value is typically 0."
   ]
  },
  {
   "cell_type": "code",
   "execution_count": 12,
   "metadata": {},
   "outputs": [
    {
     "data": {
      "text/html": [
       "<div>\n",
       "<style scoped>\n",
       "    .dataframe tbody tr th:only-of-type {\n",
       "        vertical-align: middle;\n",
       "    }\n",
       "\n",
       "    .dataframe tbody tr th {\n",
       "        vertical-align: top;\n",
       "    }\n",
       "\n",
       "    .dataframe thead th {\n",
       "        text-align: right;\n",
       "    }\n",
       "</style>\n",
       "<table border=\"1\" class=\"dataframe\">\n",
       "  <thead>\n",
       "    <tr style=\"text-align: right;\">\n",
       "      <th></th>\n",
       "      <th>unused_mass</th>\n",
       "      <th>formula</th>\n",
       "      <th>ids</th>\n",
       "    </tr>\n",
       "  </thead>\n",
       "  <tbody>\n",
       "    <tr>\n",
       "      <th>0</th>\n",
       "      <td>0</td>\n",
       "      <td>C10H14N5O7P</td>\n",
       "      <td>[amp]</td>\n",
       "    </tr>\n",
       "    <tr>\n",
       "      <th>1</th>\n",
       "      <td>0</td>\n",
       "      <td>C10H15N5O10P2</td>\n",
       "      <td>[adp]</td>\n",
       "    </tr>\n",
       "    <tr>\n",
       "      <th>2</th>\n",
       "      <td>0</td>\n",
       "      <td>C10H16N5O13P3</td>\n",
       "      <td>[atp]</td>\n",
       "    </tr>\n",
       "    <tr>\n",
       "      <th>3</th>\n",
       "      <td>0</td>\n",
       "      <td>C21H28N7O14P2</td>\n",
       "      <td>[nad]</td>\n",
       "    </tr>\n",
       "    <tr>\n",
       "      <th>4</th>\n",
       "      <td>0</td>\n",
       "      <td>C21H29N7O14P2</td>\n",
       "      <td>[nadh]</td>\n",
       "    </tr>\n",
       "  </tbody>\n",
       "</table>\n",
       "</div>"
      ],
      "text/plain": [
       "   unused_mass        formula     ids\n",
       "0            0    C10H14N5O7P   [amp]\n",
       "1            0  C10H15N5O10P2   [adp]\n",
       "2            0  C10H16N5O13P3   [atp]\n",
       "3            0  C21H28N7O14P2   [nad]\n",
       "4            0  C21H29N7O14P2  [nadh]"
      ]
     },
     "execution_count": 12,
     "metadata": {},
     "output_type": "execute_result"
    }
   ],
   "source": [
    "mapping_test = mapping.from_struct(struct_test)\n",
    "mapping_test.head()"
   ]
  },
  {
   "cell_type": "code",
   "execution_count": 14,
   "metadata": {},
   "outputs": [],
   "source": [
    "from tabulate import tabulate"
   ]
  },
  {
   "cell_type": "code",
   "execution_count": 20,
   "metadata": {},
   "outputs": [
    {
     "name": "stdout",
     "output_type": "stream",
     "text": [
      "  unused_mass  formula        ids\n",
      "-------------  -------------  --------\n",
      "            0  C10H14N5O7P    ['amp']\n",
      "            0  C10H15N5O10P2  ['adp']\n",
      "            0  C10H16N5O13P3  ['atp']\n",
      "            0  C21H28N7O14P2  ['nad']\n",
      "            0  C21H29N7O14P2  ['nadh']\n"
     ]
    }
   ],
   "source": [
    "print(tabulate(mapping_test.iloc[:5], headers=\"keys\", showindex=False))"
   ]
  },
  {
   "cell_type": "code",
   "execution_count": 17,
   "metadata": {},
   "outputs": [
    {
     "data": {
      "text/html": [
       "<div>\n",
       "<style scoped>\n",
       "    .dataframe tbody tr th:only-of-type {\n",
       "        vertical-align: middle;\n",
       "    }\n",
       "\n",
       "    .dataframe tbody tr th {\n",
       "        vertical-align: top;\n",
       "    }\n",
       "\n",
       "    .dataframe thead th {\n",
       "        text-align: right;\n",
       "    }\n",
       "</style>\n",
       "<table border=\"1\" class=\"dataframe\">\n",
       "  <thead>\n",
       "    <tr style=\"text-align: right;\">\n",
       "      <th></th>\n",
       "      <th>id</th>\n",
       "      <th>formula</th>\n",
       "      <th>unused_smiles</th>\n",
       "      <th>unused_inchi</th>\n",
       "    </tr>\n",
       "  </thead>\n",
       "  <tbody>\n",
       "    <tr>\n",
       "      <th>0</th>\n",
       "      <td>glc__D</td>\n",
       "      <td>C6H12O6</td>\n",
       "      <td>smiles</td>\n",
       "      <td>inchi</td>\n",
       "    </tr>\n",
       "    <tr>\n",
       "      <th>1</th>\n",
       "      <td>gln__L</td>\n",
       "      <td>C5H10N2O3</td>\n",
       "      <td>smiles</td>\n",
       "      <td>inchi</td>\n",
       "    </tr>\n",
       "    <tr>\n",
       "      <th>2</th>\n",
       "      <td>glu__L</td>\n",
       "      <td>C5H9NO4</td>\n",
       "      <td>smiles</td>\n",
       "      <td>inchi</td>\n",
       "    </tr>\n",
       "    <tr>\n",
       "      <th>3</th>\n",
       "      <td>glx</td>\n",
       "      <td>C2H2O3</td>\n",
       "      <td>smiles</td>\n",
       "      <td>inchi</td>\n",
       "    </tr>\n",
       "    <tr>\n",
       "      <th>4</th>\n",
       "      <td>h2o</td>\n",
       "      <td>H2O</td>\n",
       "      <td>smiles</td>\n",
       "      <td>inchi</td>\n",
       "    </tr>\n",
       "  </tbody>\n",
       "</table>\n",
       "</div>"
      ],
      "text/plain": [
       "       id    formula unused_smiles unused_inchi\n",
       "0  glc__D    C6H12O6        smiles        inchi\n",
       "1  gln__L  C5H10N2O3        smiles        inchi\n",
       "2  glu__L    C5H9NO4        smiles        inchi\n",
       "3     glx     C2H2O3        smiles        inchi\n",
       "4     h2o        H2O        smiles        inchi"
      ]
     },
     "execution_count": 17,
     "metadata": {},
     "output_type": "execute_result"
    }
   ],
   "source": [
    "struct_test.iloc[:5]"
   ]
  },
  {
   "cell_type": "code",
   "execution_count": null,
   "metadata": {},
   "outputs": [],
   "source": []
  }
 ],
 "metadata": {
  "kernelspec": {
   "display_name": "Python 3",
   "language": "python",
   "name": "python3"
  },
  "language_info": {
   "codemirror_mode": {
    "name": "ipython",
    "version": 3
   },
   "file_extension": ".py",
   "mimetype": "text/x-python",
   "name": "python",
   "nbconvert_exporter": "python",
   "pygments_lexer": "ipython3",
   "version": "3.6.10"
  }
 },
 "nbformat": 4,
 "nbformat_minor": 4
}
